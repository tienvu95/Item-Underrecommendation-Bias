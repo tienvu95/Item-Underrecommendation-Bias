{
 "cells": [
  {
   "cell_type": "code",
   "execution_count": 22,
   "id": "e129c738",
   "metadata": {},
   "outputs": [],
   "source": [
    "import tensorflow as tf\n",
    "import time\n",
    "import numpy as np\n",
    "import os\n",
    "import copy\n",
    "import pickle\n",
    "import argparse\n",
    "import utility\n",
    "import pandas as pd\n",
    "import math\n",
    "from sklearn.metrics import *"
   ]
  },
  {
   "cell_type": "code",
   "execution_count": 7,
   "id": "55a7b492",
   "metadata": {},
   "outputs": [],
   "source": [
    "def loadmodel(self, saver, checkpoint_dir):\n",
    "    ckpt = tf.train.get_checkpoint_state(checkpoint_dir)\n",
    "    if ckpt and ckpt.model_checkpoint_path:\n",
    "        ckpt_name = os.path.basename(ckpt.model_checkpoint_path)\n",
    "        saver.restore(self.sess, os.path.join(checkpoint_dir, ckpt_name))\n",
    "        return True\n",
    "    else:\n",
    "        return False"
   ]
  },
  {
   "cell_type": "code",
   "execution_count": 8,
   "id": "a80c94d3",
   "metadata": {},
   "outputs": [
    {
     "data": {
      "text/plain": [
       "['BPR/P', 'BPR/Q']"
      ]
     },
     "execution_count": 8,
     "metadata": {},
     "output_type": "execute_result"
    }
   ],
   "source": [
    "reader = tf.train.load_checkpoint('ml1m-6/BPR_check_points')\n",
    "shape_from_key = reader.get_variable_to_shape_map()\n",
    "dtype_from_key = reader.get_variable_to_dtype_map()\n",
    "\n",
    "sorted(shape_from_key.keys())\n"
   ]
  },
  {
   "cell_type": "code",
   "execution_count": 9,
   "id": "7a528b2f",
   "metadata": {},
   "outputs": [
    {
     "data": {
      "text/plain": [
       "array([[-0.47717583,  0.13508046, -0.08239254, ...,  0.29737067,\n",
       "        -0.31184825,  0.31152534],\n",
       "       [-0.82092255,  0.6933521 , -0.8726745 , ..., -0.23336671,\n",
       "        -0.76790184, -0.11863742],\n",
       "       [ 0.2220891 ,  0.400564  , -0.4448207 , ...,  0.6722743 ,\n",
       "         0.23951352,  0.51433146],\n",
       "       ...,\n",
       "       [ 0.04905014,  0.19143747, -0.0490599 , ..., -0.05610065,\n",
       "        -0.62346107,  0.29387683],\n",
       "       [-0.4681917 , -0.46256354, -0.58128434, ...,  0.08563785,\n",
       "        -1.0111028 ,  0.22256766],\n",
       "       [ 0.6822934 ,  0.7298487 , -0.09003048, ..., -0.00305937,\n",
       "        -0.67893136, -0.7770701 ]], dtype=float32)"
      ]
     },
     "execution_count": 9,
     "metadata": {},
     "output_type": "execute_result"
    }
   ],
   "source": [
    "reader.get_tensor('BPR/P')"
   ]
  },
  {
   "cell_type": "code",
   "execution_count": 10,
   "id": "8dcdb1ab",
   "metadata": {},
   "outputs": [],
   "source": [
    "def print_checkpoint(save_path):\n",
    "    reader = tf.train.load_checkpoint(save_path)\n",
    "    shapes = reader.get_variable_to_shape_map()\n",
    "    dtypes = reader.get_variable_to_dtype_map()\n",
    "    print(f\"Checkpoint at '{save_path}':\")\n",
    "    for key in shapes:\n",
    "        print(f\"  (key='{key}', shape={shapes[key]}, dtype={dtypes[key].name}, \"\n",
    "            f\"value={reader.get_tensor(key)})\")\n"
   ]
  },
  {
   "cell_type": "code",
   "execution_count": 11,
   "id": "5e3e9e05",
   "metadata": {},
   "outputs": [
    {
     "data": {
      "text/plain": [
       "(1481, 20)"
      ]
     },
     "execution_count": 11,
     "metadata": {},
     "output_type": "execute_result"
    }
   ],
   "source": [
    "reader.get_tensor('BPR/Q').shape"
   ]
  },
  {
   "cell_type": "code",
   "execution_count": 12,
   "id": "0396bdae",
   "metadata": {},
   "outputs": [],
   "source": [
    "np.save('Q_tensor.npy', reader.get_tensor('BPR/Q')) # save\n",
    "np.save('P_tensor.npy', reader.get_tensor('BPR/P')) # save\n",
    "# new_num_arr = np.load('Q_tensor.npy') # load"
   ]
  },
  {
   "cell_type": "code",
   "execution_count": 13,
   "id": "5080f8b9",
   "metadata": {},
   "outputs": [
    {
     "name": "stdout",
     "output_type": "stream",
     "text": [
      "Checkpoint at 'ml1m-6/BPR_check_points_2':\n",
      "  (key='BPR/Q', shape=[1481, 20], dtype=float32, value=[[-0.01458513 -0.0278788  -0.02968836 ...  0.01007636  0.01964535\n",
      "   0.01039099]\n",
      " [ 0.02178593 -0.0296652  -0.00069894 ... -0.02580264  0.00797478\n",
      "  -0.03780304]\n",
      " [ 0.01837691 -0.03319061 -0.01558379 ... -0.02123228  0.00159044\n",
      "  -0.02819812]\n",
      " ...\n",
      " [ 0.00656306 -0.00753659  0.00897468 ... -0.00777141 -0.02740526\n",
      "  -0.03508031]\n",
      " [-0.00663131 -0.00444541 -0.00344932 ...  0.00363906  0.00850748\n",
      "  -0.00016008]\n",
      " [-0.0069091  -0.01007038 -0.00190771 ...  0.00596577  0.01874839\n",
      "   0.00922376]])\n",
      "  (key='BPR/P', shape=[6036, 20], dtype=float32, value=[[ 1.43514667e-03 -3.01657477e-03 -1.71056297e-03 ... -1.28840026e-03\n",
      "   2.55405903e-03 -3.80083174e-03]\n",
      " [-4.36936622e-04  2.04426404e-02  1.68757234e-02 ...  2.37677014e-03\n",
      "   3.48560698e-03  2.24851351e-03]\n",
      " [-1.61453262e-02  5.16602723e-03 -4.78330208e-03 ...  1.67072657e-02\n",
      "   1.58163588e-02  1.61972940e-02]\n",
      " ...\n",
      " [-7.28358600e-07  1.48044619e-05 -2.71302679e-06 ...  2.22814106e-06\n",
      "   1.15002968e-06  2.26932098e-05]\n",
      " [ 2.21450254e-02 -2.41685845e-02 -1.28706237e-02 ... -2.19115447e-02\n",
      "   1.06267761e-02 -2.11809929e-02]\n",
      " [ 2.25834027e-02 -1.46012595e-02 -4.17736545e-02 ... -1.62176639e-02\n",
      "   6.48175478e-02  3.38744298e-02]])\n"
     ]
    }
   ],
   "source": [
    "print_checkpoint('ml1m-6/BPR_check_points_2')"
   ]
  },
  {
   "cell_type": "code",
   "execution_count": 14,
   "id": "9d28c47e",
   "metadata": {},
   "outputs": [],
   "source": [
    "Rec = np.matmul(reader.get_tensor('BPR/P'), reader.get_tensor('BPR/Q').T)"
   ]
  },
  {
   "cell_type": "code",
   "execution_count": 20,
   "id": "28c75585",
   "metadata": {},
   "outputs": [
    {
     "data": {
      "text/plain": [
       "6036"
      ]
     },
     "execution_count": 20,
     "metadata": {},
     "output_type": "execute_result"
    }
   ],
   "source": [
    "Rec.shape[0]"
   ]
  },
  {
   "cell_type": "code",
   "execution_count": 23,
   "id": "c20cb97a",
   "metadata": {},
   "outputs": [
    {
     "data": {
      "text/plain": [
       "5"
      ]
     },
     "execution_count": 23,
     "metadata": {},
     "output_type": "execute_result"
    }
   ],
   "source": [
    "int(math.ceil((int(0.5*Rec.shape[1]*10/(Rec.shape[0]+0.0))*Rec.shape[0])/(Rec.shape[1]+0.0))) "
   ]
  },
  {
   "cell_type": "code",
   "execution_count": 19,
   "id": "51b4332d",
   "metadata": {},
   "outputs": [],
   "source": [
    "np.savetxt(\"ml-1m-6.csv\", Rec, delimiter=\",\")"
   ]
  },
  {
   "cell_type": "code",
   "execution_count": 41,
   "id": "daa4a9b8",
   "metadata": {},
   "outputs": [],
   "source": [
    "train_df = pd.read_pickle(r'ml1m-6/training_df.pkl')\n",
    "vali_df = pd.read_pickle(r'ml1m-6/testing_df.pkl')   # for validation\n",
    "# vali_df = pickle.load(open('./' + dataname + '/testing_df.pkl'))  # for testing\n",
    "key_genre = pd.read_pickle(r'ml1m-6/key_genre.pkl')\n",
    "item_idd_genre_list = pd.read_pickle(r'ml1m-6/item_idd_genre_list.pkl')\n",
    "genre_item_vector = pd.read_pickle(r'ml1m-6/genre_item_vector.pkl')\n",
    "genre_count = pd.read_pickle(r'ml1m-6/genre_count.pkl')\n",
    "user_genre_count = pd.read_pickle(r'ml1m-6/user_genre_count.pkl')\n",
    "\n",
    "num_item = len(train_df['item_id'].unique())\n",
    "num_user = len(train_df['user_id'].unique())\n",
    "num_genre = len(key_genre)\n"
   ]
  },
  {
   "cell_type": "code",
   "execution_count": 42,
   "id": "c43313d7",
   "metadata": {},
   "outputs": [],
   "source": [
    "item_genre_list = []\n",
    "for u in range(num_item):\n",
    "    gl = item_idd_genre_list[u]\n",
    "    tmp = []\n",
    "    for g in gl:\n",
    "        if g in key_genre:\n",
    "            tmp.append(g)\n",
    "    item_genre_list.append(tmp)"
   ]
  },
  {
   "cell_type": "code",
   "execution_count": 43,
   "id": "772f0389",
   "metadata": {},
   "outputs": [
    {
     "name": "stdout",
     "output_type": "stream",
     "text": [
      "\n",
      "####################################################################################################\n",
      "# System-level Recall:\n",
      "# \t\t\tRecall@1\tRecall@5\tRecall@10\tRecall@15\n",
      "# Sci-Fi\t\t0.02311\t\t0.09894\t\t0.17535\t\t0.23561\n",
      "# Horror\t\t0.01374\t\t0.05641\t\t0.10064\t\t0.13990\n",
      "# Crime\t\t0.01818\t\t0.08024\t\t0.13867\t\t0.19032\n",
      "# Adventure\t\t0.02120\t\t0.09090\t\t0.15931\t\t0.21637\n",
      "# Children's\t\t0.01420\t\t0.05737\t\t0.10250\t\t0.14651\n",
      "# Romance\t\t0.01402\t\t0.06079\t\t0.11284\t\t0.15781\n",
      "# relative std\t\t0.21325\t\t0.22761\t\t0.21699\t\t0.19829\n",
      "####################################################################################################\n",
      "# User-level Recall:\n",
      "# \t\t\tRecall@1\tRecall@5\tRecall@10\tRecall@15\n",
      "# Sci-Fi\t\t0.03001\t\t0.11798\t\t0.20318\t\t0.26870\n",
      "# Horror\t\t0.01442\t\t0.05783\t\t0.10390\t\t0.15012\n",
      "# Crime\t\t0.01913\t\t0.08711\t\t0.14762\t\t0.20453\n",
      "# Adventure\t\t0.02851\t\t0.11374\t\t0.18733\t\t0.24986\n",
      "# Children's\t\t0.01513\t\t0.05909\t\t0.10926\t\t0.15490\n",
      "# Romance\t\t0.01881\t\t0.07423\t\t0.13453\t\t0.18373\n",
      "# relative std\t\t0.29072\t\t0.28184\t\t0.25068\t\t0.22132\n",
      "####################################################################################################\n",
      "# System-level top ranking probability:\n",
      "# \t\t\t@1\t\t@5\t\t@10\t\t@15\n",
      "# Sci-Fi\t\t0.00142\t\t0.00709\t\t0.01396\t\t0.02052\n",
      "# Horror\t\t0.00035\t\t0.00167\t\t0.00336\t\t0.00514\n",
      "# Crime\t\t0.00095\t\t0.00468\t\t0.00917\t\t0.01364\n",
      "# Adventure\t\t0.00108\t\t0.00529\t\t0.01050\t\t0.01549\n",
      "# Children's\t\t0.00045\t\t0.00228\t\t0.00466\t\t0.00717\n",
      "# Romance\t\t0.00058\t\t0.00300\t\t0.00618\t\t0.00947\n",
      "# relative std\t\t0.47163\t\t0.46832\t\t0.45548\t\t0.43956\n",
      "####################################################################################################\n",
      "# User-level top ranking probability:\n",
      "# \t\t\t@1\t\t@5\t\t@10\t\t@15\n",
      "# Sci-Fi\t\t0.00149\t\t0.00743\t\t0.01459\t\t0.02144\n",
      "# Horror\t\t0.00037\t\t0.00178\t\t0.00357\t\t0.00543\n",
      "# Crime\t\t0.00098\t\t0.00481\t\t0.00941\t\t0.01398\n",
      "# Adventure\t\t0.00112\t\t0.00545\t\t0.01078\t\t0.01590\n",
      "# Children's\t\t0.00048\t\t0.00242\t\t0.00491\t\t0.00752\n",
      "# Romance\t\t0.00059\t\t0.00306\t\t0.00629\t\t0.00963\n",
      "# relative std\t\t0.46988\t\t0.46755\t\t0.45537\t\t0.44020\n",
      "####################################################################################################\n"
     ]
    },
    {
     "data": {
      "text/plain": [
       "(array([0.47163318, 0.46831565, 0.45548423, 0.4395613 ]),\n",
       " array([0.2132465 , 0.22760523, 0.21698537, 0.19828977]))"
      ]
     },
     "execution_count": 43,
     "metadata": {},
     "output_type": "execute_result"
    }
   ],
   "source": [
    "utility.ranking_analysis(Rec, vali_df, train_df, key_genre, item_genre_list,\n",
    "                                                      user_genre_count)"
   ]
  },
  {
   "cell_type": "code",
   "execution_count": 44,
   "id": "bb5a5a39",
   "metadata": {},
   "outputs": [],
   "source": [
    "Q_tensor = (np.load('Q_tensor.npy'))\n",
    "P_tensor = (np.load('P_tensor.npy'))\n",
    "Rec = np.matmul(P_tensor, Q_tensor.T)"
   ]
  },
  {
   "cell_type": "code",
   "execution_count": 45,
   "id": "4ad99601",
   "metadata": {},
   "outputs": [
    {
     "name": "stdout",
     "output_type": "stream",
     "text": [
      "\n",
      "####################################################################################################\n",
      "# System-level Recall:\n",
      "# \t\t\tRecall@1\tRecall@5\tRecall@10\tRecall@15\n",
      "# Sci-Fi\t\t0.02311\t\t0.09894\t\t0.17535\t\t0.23561\n",
      "# Horror\t\t0.01374\t\t0.05641\t\t0.10064\t\t0.13990\n",
      "# Crime\t\t0.01818\t\t0.08024\t\t0.13867\t\t0.19032\n",
      "# Adventure\t\t0.02120\t\t0.09090\t\t0.15931\t\t0.21637\n",
      "# Children's\t\t0.01420\t\t0.05737\t\t0.10250\t\t0.14651\n",
      "# Romance\t\t0.01402\t\t0.06079\t\t0.11284\t\t0.15781\n",
      "# relative std\t\t0.21325\t\t0.22761\t\t0.21699\t\t0.19829\n",
      "####################################################################################################\n",
      "# User-level Recall:\n",
      "# \t\t\tRecall@1\tRecall@5\tRecall@10\tRecall@15\n",
      "# Sci-Fi\t\t0.03001\t\t0.11798\t\t0.20318\t\t0.26870\n",
      "# Horror\t\t0.01442\t\t0.05783\t\t0.10390\t\t0.15012\n",
      "# Crime\t\t0.01913\t\t0.08711\t\t0.14762\t\t0.20453\n",
      "# Adventure\t\t0.02851\t\t0.11374\t\t0.18733\t\t0.24986\n",
      "# Children's\t\t0.01513\t\t0.05909\t\t0.10926\t\t0.15490\n",
      "# Romance\t\t0.01881\t\t0.07423\t\t0.13453\t\t0.18373\n",
      "# relative std\t\t0.29072\t\t0.28184\t\t0.25068\t\t0.22132\n",
      "####################################################################################################\n",
      "# System-level top ranking probability:\n",
      "# \t\t\t@1\t\t@5\t\t@10\t\t@15\n",
      "# Sci-Fi\t\t0.00142\t\t0.00709\t\t0.01396\t\t0.02052\n",
      "# Horror\t\t0.00035\t\t0.00167\t\t0.00336\t\t0.00514\n",
      "# Crime\t\t0.00095\t\t0.00468\t\t0.00917\t\t0.01364\n",
      "# Adventure\t\t0.00108\t\t0.00529\t\t0.01050\t\t0.01549\n",
      "# Children's\t\t0.00045\t\t0.00228\t\t0.00466\t\t0.00717\n",
      "# Romance\t\t0.00058\t\t0.00300\t\t0.00618\t\t0.00947\n",
      "# relative std\t\t0.47163\t\t0.46832\t\t0.45548\t\t0.43956\n",
      "####################################################################################################\n",
      "# User-level top ranking probability:\n",
      "# \t\t\t@1\t\t@5\t\t@10\t\t@15\n",
      "# Sci-Fi\t\t0.00149\t\t0.00743\t\t0.01459\t\t0.02144\n",
      "# Horror\t\t0.00037\t\t0.00178\t\t0.00357\t\t0.00543\n",
      "# Crime\t\t0.00098\t\t0.00481\t\t0.00941\t\t0.01398\n",
      "# Adventure\t\t0.00112\t\t0.00545\t\t0.01078\t\t0.01590\n",
      "# Children's\t\t0.00048\t\t0.00242\t\t0.00491\t\t0.00752\n",
      "# Romance\t\t0.00059\t\t0.00306\t\t0.00629\t\t0.00963\n",
      "# relative std\t\t0.46988\t\t0.46755\t\t0.45537\t\t0.44020\n",
      "####################################################################################################\n"
     ]
    },
    {
     "data": {
      "text/plain": [
       "(array([0.47163318, 0.46831565, 0.45548423, 0.4395613 ]),\n",
       " array([0.2132465 , 0.22760523, 0.21698537, 0.19828977]))"
      ]
     },
     "execution_count": 45,
     "metadata": {},
     "output_type": "execute_result"
    }
   ],
   "source": [
    "utility.ranking_analysis(Rec, vali_df, train_df, key_genre, item_genre_list,\n",
    "                                                      user_genre_count)"
   ]
  },
  {
   "cell_type": "code",
   "execution_count": 54,
   "id": "10a94bdd",
   "metadata": {},
   "outputs": [
    {
     "name": "stdout",
     "output_type": "stream",
     "text": [
      "precision_1\t[0.1598434],\t||\t precision_5\t[0.1363475],\t||\t precision_10\t[0.1221787],\t||\t precision_15\t[0.1118548]\n",
      "recall_1   \t[0.0272944],\t||\t recall_5   \t[0.1075401],\t||\t recall_10   \t[0.1816718],\t||\t recall_15   \t[0.2408833]\n",
      "f_measure_1\t[0.0466270],\t||\t f_measure_5\t[0.1202425],\t||\t f_measure_10\t[0.1461010],\t||\t f_measure_15\t[0.1527703]\n",
      "ndcg_1     \t[0.1598434],\t||\t ndcg_5     \t[0.1607376],\t||\t ndcg_10     \t[0.1780276],\t||\t ndcg_15     \t[0.1951911]\n"
     ]
    },
    {
     "data": {
      "text/plain": [
       "(array([0.15984336, 0.13634745, 0.12217871, 0.11185475]),\n",
       " array([0.02729443, 0.10754011, 0.1816718 , 0.2408833 ]),\n",
       " [0.04662695945850442,\n",
       "  0.12024246082827848,\n",
       "  0.14610096393529334,\n",
       "  0.15277025982451498],\n",
       " array([0.15984336, 0.16073764, 0.1780276 , 0.19519114]))"
      ]
     },
     "execution_count": 54,
     "metadata": {},
     "output_type": "execute_result"
    }
   ],
   "source": [
    "utility.test_model_all(Rec, vali_df, train_df)"
   ]
  },
  {
   "cell_type": "code",
   "execution_count": null,
   "id": "b48fa029",
   "metadata": {},
   "outputs": [],
   "source": [
    "(array([0.4627573 , 0.46141217, 0.44746139, 0.43311171]),\n",
    " array([0.21210963, 0.21992576, 0.2034469 , 0.19330252]))"
   ]
  },
  {
   "cell_type": "code",
   "execution_count": 3,
   "id": "32e34795",
   "metadata": {},
   "outputs": [
    {
     "data": {
      "image/png": "[encoded data removed]",
      "text/plain": [
       "<Figure size 432x288 with 1 Axes>"
      ]
     },
     "metadata": {
      "needs_background": "light"
     },
     "output_type": "display_data"
    }
   ],
   "source": [
    "\n",
    "\n",
    "# importing package\n",
    "import matplotlib.pyplot as plt\n",
    "import numpy as np\n",
    "  \n",
    "# create data\n",
    "x = np.arange(3)\n",
    "y1 = [0.46831565, 0.45548423, 0.4395613]\n",
    "y2 = [0.46141217, 0.44746139, 0.43311171]\n",
    "width = 0.2\n",
    "  \n",
    "# plot data in grouped manner of bar type\n",
    "plt.bar(x-0.2, y1, width, color='red')\n",
    "plt.bar(x, y2, width, color='blue')\n",
    "plt.xticks(x, [\"top5\", \"top10\", \"top15\"])\n",
    "plt.ylabel(\"RSP@k\")\n",
    "plt.xlabel(\"RSP@k Ml1M-6\")\n",
    "plt.legend([\"BPR\", \"BPR+ universal perturbation\"])\n",
    "plt.show()"
   ]
  },
  {
   "cell_type": "code",
   "execution_count": 4,
   "id": "33feff1e",
   "metadata": {},
   "outputs": [
    {
     "data": {
      "image/png": "[encoded data removed]",
      "text/plain": [
       "<Figure size 432x288 with 1 Axes>"
      ]
     },
     "metadata": {
      "needs_background": "light"
     },
     "output_type": "display_data"
    }
   ],
   "source": [
    "\n",
    "\n",
    "# importing package\n",
    "import matplotlib.pyplot as plt\n",
    "import numpy as np\n",
    "  \n",
    "# create data\n",
    "x = np.arange(3)\n",
    "y1 = [0.16073764, 0.1780276 , 0.19519114]\n",
    "y2 = [0.15989863, 0.17626348, 0.19420678]\n",
    "width = 0.2\n",
    "  \n",
    "# plot data in grouped manner of bar type\n",
    "plt.bar(x-0.2, y1, width, color='red')\n",
    "plt.bar(x, y2, width, color='blue')\n",
    "plt.xticks(x, [\"top5\", \"top10\", \"top15\"])\n",
    "plt.ylabel(\"NCDG@k\")\n",
    "plt.xlabel(\"NCDG@k Ml1M-6\")\n",
    "plt.legend([\"BPR\", \"BPR+ universal perturbation\"])\n",
    "plt.show()"
   ]
  },
  {
   "cell_type": "code",
   "execution_count": null,
   "id": "7e7d6e17",
   "metadata": {},
   "outputs": [],
   "source": []
  }
 ],
 "metadata": {
  "kernelspec": {
   "display_name": "Python 3 (ipykernel)",
   "language": "python",
   "name": "python3"
  },
  "language_info": {
   "codemirror_mode": {
    "name": "ipython",
    "version": 3
   },
   "file_extension": ".py",
   "mimetype": "text/x-python",
   "name": "python",
   "nbconvert_exporter": "python",
   "pygments_lexer": "ipython3",
   "version": "3.9.7"
  }
 },
 "nbformat": 4,
 "nbformat_minor": 5
}
