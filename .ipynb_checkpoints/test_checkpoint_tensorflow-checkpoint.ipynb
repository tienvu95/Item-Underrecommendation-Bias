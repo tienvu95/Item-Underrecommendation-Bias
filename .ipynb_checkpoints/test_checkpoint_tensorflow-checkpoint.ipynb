{
 "cells": [
  {
   "cell_type": "code",
   "execution_count": 1,
   "id": "5a2461a2",
   "metadata": {},
   "outputs": [
    {
     "name": "stderr",
     "output_type": "stream",
     "text": [
      "2023-03-23 15:27:36.332173: I tensorflow/core/platform/cpu_feature_guard.cc:193] This TensorFlow binary is optimized with oneAPI Deep Neural Network Library (oneDNN) to use the following CPU instructions in performance-critical operations:  AVX2 AVX_VNNI FMA\n",
      "To enable them in other operations, rebuild TensorFlow with the appropriate compiler flags.\n",
      "2023-03-23 15:27:36.394341: I tensorflow/core/util/port.cc:104] oneDNN custom operations are on. You may see slightly different numerical results due to floating-point round-off errors from different computation orders. To turn them off, set the environment variable `TF_ENABLE_ONEDNN_OPTS=0`.\n"
     ]
    }
   ],
   "source": [
    "import tensorflow as tf\n",
    "import time\n",
    "import numpy as np\n",
    "import os\n",
    "import copy\n",
    "import pickle\n",
    "import argparse\n",
    "import utility\n",
    "import pandas as pd\n",
    "from sklearn.metrics import *"
   ]
  },
  {
   "cell_type": "code",
   "execution_count": 2,
   "id": "9f334f2f",
   "metadata": {},
   "outputs": [],
   "source": [
    "def loadmodel(self, saver, checkpoint_dir):\n",
    "    ckpt = tf.train.get_checkpoint_state(checkpoint_dir)\n",
    "    if ckpt and ckpt.model_checkpoint_path:\n",
    "        ckpt_name = os.path.basename(ckpt.model_checkpoint_path)\n",
    "        saver.restore(self.sess, os.path.join(checkpoint_dir, ckpt_name))\n",
    "        return True\n",
    "    else:\n",
    "        return False"
   ]
  },
  {
   "cell_type": "code",
   "execution_count": 27,
   "id": "2acf1e2c",
   "metadata": {},
   "outputs": [
    {
     "data": {
      "text/plain": [
       "['BPR/P', 'BPR/Q']"
      ]
     },
     "execution_count": 27,
     "metadata": {},
     "output_type": "execute_result"
    }
   ],
   "source": [
    "reader = tf.train.load_checkpoint('ml1m-6/BPR_check_points')\n",
    "shape_from_key = reader.get_variable_to_shape_map()\n",
    "dtype_from_key = reader.get_variable_to_dtype_map()\n",
    "\n",
    "sorted(shape_from_key.keys())\n"
   ]
  },
  {
   "cell_type": "code",
   "execution_count": 28,
   "id": "99171f21",
   "metadata": {},
   "outputs": [
    {
     "data": {
      "text/plain": [
       "array([[-0.47717583,  0.13508046, -0.08239254, ...,  0.29737067,\n",
       "        -0.31184825,  0.31152534],\n",
       "       [-0.82092255,  0.6933521 , -0.8726745 , ..., -0.23336671,\n",
       "        -0.76790184, -0.11863742],\n",
       "       [ 0.2220891 ,  0.400564  , -0.4448207 , ...,  0.6722743 ,\n",
       "         0.23951352,  0.51433146],\n",
       "       ...,\n",
       "       [ 0.04905014,  0.19143747, -0.0490599 , ..., -0.05610065,\n",
       "        -0.62346107,  0.29387683],\n",
       "       [-0.4681917 , -0.46256354, -0.58128434, ...,  0.08563785,\n",
       "        -1.0111028 ,  0.22256766],\n",
       "       [ 0.6822934 ,  0.7298487 , -0.09003048, ..., -0.00305937,\n",
       "        -0.67893136, -0.7770701 ]], dtype=float32)"
      ]
     },
     "execution_count": 28,
     "metadata": {},
     "output_type": "execute_result"
    }
   ],
   "source": [
    "reader.get_tensor('BPR/P')"
   ]
  },
  {
   "cell_type": "code",
   "execution_count": 29,
   "id": "0d153205",
   "metadata": {},
   "outputs": [],
   "source": [
    "def print_checkpoint(save_path):\n",
    "    reader = tf.train.load_checkpoint(save_path)\n",
    "    shapes = reader.get_variable_to_shape_map()\n",
    "    dtypes = reader.get_variable_to_dtype_map()\n",
    "    print(f\"Checkpoint at '{save_path}':\")\n",
    "    for key in shapes:\n",
    "        print(f\"  (key='{key}', shape={shapes[key]}, dtype={dtypes[key].name}, \"\n",
    "            f\"value={reader.get_tensor(key)})\")\n"
   ]
  },
  {
   "cell_type": "code",
   "execution_count": 30,
   "id": "b4dfc790",
   "metadata": {},
   "outputs": [
    {
     "name": "stdout",
     "output_type": "stream",
     "text": [
      "Checkpoint at 'ml1m-6/BPR_check_points':\n",
      "  (key='BPR/Q', shape=[1481, 20], dtype=float32, value=[[-0.03268467  1.1918584   0.00794114 ... -0.22019878 -0.4521646\n",
      "   0.5118543 ]\n",
      " [-0.11370566 -0.5087564  -0.6897483  ... -0.07643523 -1.3114972\n",
      "   0.65960276]\n",
      " [-0.5968297  -0.2354808  -0.20335405 ...  0.2793366  -0.67394733\n",
      "   0.7153025 ]\n",
      " ...\n",
      " [ 0.66704994  0.02742922  0.19272879 ... -1.3870312   0.64291066\n",
      "  -0.04574314]\n",
      " [ 0.45914733 -0.24433197  0.89290357 ... -0.5460106   0.67568636\n",
      "  -0.3282324 ]\n",
      " [ 0.42345312 -0.51841384  1.4976695  ... -0.6477432   0.88904154\n",
      "   0.12562202]])\n",
      "  (key='BPR/P', shape=[6036, 20], dtype=float32, value=[[-0.47717583  0.13508046 -0.08239254 ...  0.29737067 -0.31184825\n",
      "   0.31152534]\n",
      " [-0.82092255  0.6933521  -0.8726745  ... -0.23336671 -0.76790184\n",
      "  -0.11863742]\n",
      " [ 0.2220891   0.400564   -0.4448207  ...  0.6722743   0.23951352\n",
      "   0.51433146]\n",
      " ...\n",
      " [ 0.04905014  0.19143747 -0.0490599  ... -0.05610065 -0.62346107\n",
      "   0.29387683]\n",
      " [-0.4681917  -0.46256354 -0.58128434 ...  0.08563785 -1.0111028\n",
      "   0.22256766]\n",
      " [ 0.6822934   0.7298487  -0.09003048 ... -0.00305937 -0.67893136\n",
      "  -0.7770701 ]])\n"
     ]
    }
   ],
   "source": [
    "print_checkpoint('ml1m-6/BPR_check_points')"
   ]
  },
  {
   "cell_type": "code",
   "execution_count": 31,
   "id": "11ed7ea8",
   "metadata": {},
   "outputs": [],
   "source": [
    "Rec = np.matmul(reader.get_tensor('BPR/P'), reader.get_tensor('BPR/Q').T)"
   ]
  },
  {
   "cell_type": "code",
   "execution_count": 32,
   "id": "139efcb9",
   "metadata": {},
   "outputs": [],
   "source": [
    "train_df = pd.read_pickle(r'ml1m-6/training_df.pkl')\n",
    "vali_df = pd.read_pickle(r'ml1m-6/testing_df.pkl')   # for validation\n",
    "# vali_df = pickle.load(open('./' + dataname + '/testing_df.pkl'))  # for testing\n",
    "key_genre = pd.read_pickle(r'ml1m-6/key_genre.pkl')\n",
    "item_idd_genre_list = pd.read_pickle(r'ml1m-6/item_idd_genre_list.pkl')\n",
    "genre_item_vector = pd.read_pickle(r'ml1m-6/genre_item_vector.pkl')\n",
    "genre_count = pd.read_pickle(r'ml1m-6/genre_count.pkl')\n",
    "user_genre_count = pd.read_pickle(r'ml1m-6/user_genre_count.pkl')\n",
    "\n",
    "num_item = len(train_df['item_id'].unique())\n",
    "num_user = len(train_df['user_id'].unique())\n",
    "num_genre = len(key_genre)\n"
   ]
  },
  {
   "cell_type": "code",
   "execution_count": 33,
   "id": "dd176b7c",
   "metadata": {},
   "outputs": [],
   "source": [
    "item_genre_list = []\n",
    "for u in range(num_item):\n",
    "    gl = item_idd_genre_list[u]\n",
    "    tmp = []\n",
    "    for g in gl:\n",
    "        if g in key_genre:\n",
    "            tmp.append(g)\n",
    "    item_genre_list.append(tmp)"
   ]
  },
  {
   "cell_type": "code",
   "execution_count": 34,
   "id": "49fc7881",
   "metadata": {},
   "outputs": [
    {
     "name": "stdout",
     "output_type": "stream",
     "text": [
      "\n",
      "####################################################################################################\n",
      "# System-level Recall:\n",
      "# \t\t\tRecall@1\tRecall@5\tRecall@10\tRecall@15\n",
      "# Sci-Fi\t\t0.02264\t\t0.09988\t\t0.17106\t\t0.22973\n",
      "# Horror\t\t0.01253\t\t0.05306\t\t0.09425\t\t0.13412\n",
      "# Crime\t\t0.01909\t\t0.07622\t\t0.13030\t\t0.17839\n",
      "# Adventure\t\t0.02210\t\t0.08778\t\t0.15437\t\t0.20757\n",
      "# Children's\t\t0.01137\t\t0.05034\t\t0.09638\t\t0.13771\n",
      "# Romance\t\t0.01418\t\t0.06025\t\t0.11042\t\t0.15439\n",
      "# relative std\t\t0.26524\t\t0.25664\t\t0.22844\t\t0.20420\n",
      "####################################################################################################\n",
      "# User-level Recall:\n",
      "# \t\t\tRecall@1\tRecall@5\tRecall@10\tRecall@15\n",
      "# Sci-Fi\t\t0.02543\t\t0.11552\t\t0.19339\t\t0.25584\n",
      "# Horror\t\t0.01129\t\t0.05226\t\t0.09262\t\t0.13336\n",
      "# Crime\t\t0.01912\t\t0.08372\t\t0.14590\t\t0.19573\n",
      "# Adventure\t\t0.02452\t\t0.10130\t\t0.17861\t\t0.23932\n",
      "# Children's\t\t0.01229\t\t0.05041\t\t0.09745\t\t0.14418\n",
      "# Romance\t\t0.01787\t\t0.07249\t\t0.13247\t\t0.18158\n",
      "# relative std\t\t0.29374\t\t0.30147\t\t0.26853\t\t0.23490\n",
      "####################################################################################################\n",
      "# System-level top ranking probability:\n",
      "# \t\t\t@1\t\t@5\t\t@10\t\t@15\n",
      "# Sci-Fi\t\t0.00142\t\t0.00709\t\t0.01396\t\t0.02052\n",
      "# Horror\t\t0.00035\t\t0.00167\t\t0.00336\t\t0.00514\n",
      "# Crime\t\t0.00095\t\t0.00468\t\t0.00917\t\t0.01364\n",
      "# Adventure\t\t0.00108\t\t0.00529\t\t0.01050\t\t0.01549\n",
      "# Children's\t\t0.00045\t\t0.00228\t\t0.00466\t\t0.00717\n",
      "# Romance\t\t0.00058\t\t0.00300\t\t0.00618\t\t0.00947\n",
      "# relative std\t\t0.47163\t\t0.46832\t\t0.45548\t\t0.43956\n",
      "####################################################################################################\n",
      "# User-level top ranking probability:\n",
      "# \t\t\t@1\t\t@5\t\t@10\t\t@15\n",
      "# Sci-Fi\t\t0.00149\t\t0.00743\t\t0.01459\t\t0.02144\n",
      "# Horror\t\t0.00037\t\t0.00178\t\t0.00357\t\t0.00543\n",
      "# Crime\t\t0.00098\t\t0.00481\t\t0.00941\t\t0.01398\n",
      "# Adventure\t\t0.00112\t\t0.00545\t\t0.01078\t\t0.01590\n",
      "# Children's\t\t0.00048\t\t0.00242\t\t0.00491\t\t0.00752\n",
      "# Romance\t\t0.00059\t\t0.00306\t\t0.00629\t\t0.00963\n",
      "# relative std\t\t0.46988\t\t0.46755\t\t0.45537\t\t0.44020\n",
      "####################################################################################################\n"
     ]
    },
    {
     "data": {
      "text/plain": [
       "(array([0.47163318, 0.46831565, 0.45548423, 0.4395613 ]),\n",
       " array([0.2652389 , 0.25664374, 0.22843878, 0.20420126]))"
      ]
     },
     "execution_count": 34,
     "metadata": {},
     "output_type": "execute_result"
    }
   ],
   "source": [
    "utility.ranking_analysis(Rec, vali_df, train_df, key_genre, item_genre_list,\n",
    "                                                      user_genre_count)"
   ]
  },
  {
   "cell_type": "code",
   "execution_count": null,
   "id": "3fde5591",
   "metadata": {},
   "outputs": [],
   "source": []
  }
 ],
 "metadata": {
  "kernelspec": {
   "display_name": "Python 3 (ipykernel)",
   "language": "python",
   "name": "python3"
  },
  "language_info": {
   "codemirror_mode": {
    "name": "ipython",
    "version": 3
   },
   "file_extension": ".py",
   "mimetype": "text/x-python",
   "name": "python",
   "nbconvert_exporter": "python",
   "pygments_lexer": "ipython3",
   "version": "3.9.7"
  }
 },
 "nbformat": 4,
 "nbformat_minor": 5
}
